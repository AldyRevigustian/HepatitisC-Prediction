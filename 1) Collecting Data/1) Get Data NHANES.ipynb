{
 "cells": [
  {
   "cell_type": "markdown",
   "metadata": {
    "id": "lO7CbIiKNuQl"
   },
   "source": [
    "## Import Library"
   ]
  },
  {
   "cell_type": "code",
   "execution_count": 1,
   "metadata": {
    "executionInfo": {
     "elapsed": 367,
     "status": "ok",
     "timestamp": 1747384246220,
     "user": {
      "displayName": "Aldy Revi",
      "userId": "00612481979328314286"
     },
     "user_tz": -420
    },
    "id": "3mguPCLeNgMc"
   },
   "outputs": [],
   "source": [
    "import os\n",
    "import requests"
   ]
  },
  {
   "cell_type": "code",
   "execution_count": 5,
   "metadata": {
    "colab": {
     "base_uri": "https://localhost:8080/"
    },
    "executionInfo": {
     "elapsed": 1697,
     "status": "ok",
     "timestamp": 1747384311634,
     "user": {
      "displayName": "Aldy Revi",
      "userId": "00612481979328314286"
     },
     "user_tz": -420
    },
    "id": "sT_VxO8SNp8Y",
    "outputId": "0046e939-f234-4571-cf95-9ab72116a257"
   },
   "outputs": [],
   "source": [
    "# from google.colab import drive\n",
    "# drive.mount('/content/drive')\n",
    "# project_path = \"/content/drive/MyDrive/ComBio\"\n",
    "# root_folder = f\"{project_path}/Dataset\"\n",
    "\n",
    "root_folder = f\"../Dataset\"\n"
   ]
  },
  {
   "cell_type": "markdown",
   "metadata": {
    "id": "6GHRTZzpNxeX"
   },
   "source": [
    "## Download Data"
   ]
  },
  {
   "cell_type": "code",
   "execution_count": 6,
   "metadata": {
    "executionInfo": {
     "elapsed": 19,
     "status": "ok",
     "timestamp": 1747384322918,
     "user": {
      "displayName": "Aldy Revi",
      "userId": "00612481979328314286"
     },
     "user_tz": -420
    },
    "id": "9kRIxh1uNjZJ"
   },
   "outputs": [],
   "source": [
    "nhanes_cycles = {\n",
    "    \"2005-2006\": {\n",
    "        \"base_url\": \"https://wwwn.cdc.gov/Nchs/Data/Nhanes/Public/2005/DataFiles/\",\n",
    "        \"files\": [\n",
    "            \"DEMO_D.XPT\", \"BIOPRO_D.XPT\", \"HEPC_D.XPT\", \"MCQ_D.XPT\", \"DUQ_D.XPT\", \"ALQ_D.XPT\"\n",
    "        ]\n",
    "    },\n",
    "    \"2007-2008\": {\n",
    "        \"base_url\": \"https://wwwn.cdc.gov/Nchs/Data/Nhanes/Public/2007/DataFiles/\",\n",
    "        \"files\": [\n",
    "            \"DEMO_E.XPT\", \"BIOPRO_E.XPT\", \"HEPC_E.XPT\", \"MCQ_E.XPT\", \"DUQ_E.XPT\", \"ALQ_E.XPT\"\n",
    "        ]\n",
    "    },\n",
    "    \"2009-2010\": {\n",
    "        \"base_url\": \"https://wwwn.cdc.gov/Nchs/Data/Nhanes/Public/2009/DataFiles/\",\n",
    "        \"files\": [\n",
    "            \"DEMO_F.XPT\", \"BIOPRO_F.XPT\", \"HEPC_F.XPT\", \"MCQ_F.XPT\", \"DUQ_F.XPT\", \"ALQ_F.XPT\"\n",
    "        ]\n",
    "    },\n",
    "    \"2011-2012\": {\n",
    "        \"base_url\": \"https://wwwn.cdc.gov/Nchs/Data/Nhanes/Public/2011/DataFiles/\",\n",
    "        \"files\": [\n",
    "            \"DEMO_G.XPT\", \"BIOPRO_G.XPT\", \"HEPC_G.XPT\", \"MCQ_G.XPT\", \"DUQ_G.XPT\", \"ALQ_G.XPT\"\n",
    "        ]\n",
    "    },\n",
    "    \"2013-2014\": {\n",
    "        \"base_url\": \"https://wwwn.cdc.gov/Nchs/Data/Nhanes/Public/2013/DataFiles/\",\n",
    "        \"files\": [\n",
    "            \"DEMO_H.XPT\", \"BIOPRO_H.XPT\", \"HEPC_H.XPT\", \"MCQ_H.XPT\", \"DUQ_H.XPT\", \"ALQ_H.XPT\"\n",
    "        ]\n",
    "    },\n",
    "    \"2015-2016\": {\n",
    "        \"base_url\": \"https://wwwn.cdc.gov/Nchs/Data/Nhanes/Public/2015/DataFiles/\",\n",
    "        \"files\": [\n",
    "            \"DEMO_I.XPT\", \"BIOPRO_I.XPT\", \"HEPC_I.XPT\", \"MCQ_I.XPT\", \"DUQ_I.XPT\", \"ALQ_I.XPT\"\n",
    "        ]\n",
    "    },\n",
    "    \"2017-2018\": {\n",
    "        \"base_url\": \"https://wwwn.cdc.gov/Nchs/Data/Nhanes/Public/2017/DataFiles/\",\n",
    "        \"files\": [\n",
    "            \"DEMO_J.xpt\", \"BIOPRO_J.xpt\", \"HEPC_J.xpt\", \"MCQ_J.xpt\", \"DUQ_J.xpt\", \"ALQ_J.xpt\"\n",
    "        ]\n",
    "    },\n",
    "}"
   ]
  },
  {
   "cell_type": "code",
   "execution_count": 7,
   "metadata": {
    "colab": {
     "base_uri": "https://localhost:8080/"
    },
    "executionInfo": {
     "elapsed": 14607,
     "status": "ok",
     "timestamp": 1747384360126,
     "user": {
      "displayName": "Aldy Revi",
      "userId": "00612481979328314286"
     },
     "user_tz": -420
    },
    "id": "lNP0c5zPNexZ",
    "outputId": "47048812-5ea5-4e5a-dfe9-d7992e5f37c9"
   },
   "outputs": [
    {
     "name": "stdout",
     "output_type": "stream",
     "text": [
      "\n",
      "=== Downloading NHANES 2005-2006 ===\n",
      "Downloading DEMO_D.XPT...\n",
      "✅ Saved to ../Dataset\\2005_2006\\DEMO_D.XPT\n",
      "Downloading BIOPRO_D.XPT...\n",
      "✅ Saved to ../Dataset\\2005_2006\\BIOPRO_D.XPT\n",
      "Downloading HEPC_D.XPT...\n",
      "✅ Saved to ../Dataset\\2005_2006\\HEPC_D.XPT\n",
      "Downloading MCQ_D.XPT...\n",
      "✅ Saved to ../Dataset\\2005_2006\\MCQ_D.XPT\n",
      "Downloading DUQ_D.XPT...\n",
      "✅ Saved to ../Dataset\\2005_2006\\DUQ_D.XPT\n",
      "Downloading ALQ_D.XPT...\n",
      "✅ Saved to ../Dataset\\2005_2006\\ALQ_D.XPT\n",
      "\n",
      "=== Downloading NHANES 2007-2008 ===\n",
      "Downloading DEMO_E.XPT...\n",
      "✅ Saved to ../Dataset\\2007_2008\\DEMO_E.XPT\n",
      "Downloading BIOPRO_E.XPT...\n",
      "✅ Saved to ../Dataset\\2007_2008\\BIOPRO_E.XPT\n",
      "Downloading HEPC_E.XPT...\n",
      "✅ Saved to ../Dataset\\2007_2008\\HEPC_E.XPT\n",
      "Downloading MCQ_E.XPT...\n",
      "✅ Saved to ../Dataset\\2007_2008\\MCQ_E.XPT\n",
      "Downloading DUQ_E.XPT...\n",
      "✅ Saved to ../Dataset\\2007_2008\\DUQ_E.XPT\n",
      "Downloading ALQ_E.XPT...\n",
      "✅ Saved to ../Dataset\\2007_2008\\ALQ_E.XPT\n",
      "\n",
      "=== Downloading NHANES 2009-2010 ===\n",
      "Downloading DEMO_F.XPT...\n",
      "✅ Saved to ../Dataset\\2009_2010\\DEMO_F.XPT\n",
      "Downloading BIOPRO_F.XPT...\n",
      "✅ Saved to ../Dataset\\2009_2010\\BIOPRO_F.XPT\n",
      "Downloading HEPC_F.XPT...\n",
      "✅ Saved to ../Dataset\\2009_2010\\HEPC_F.XPT\n",
      "Downloading MCQ_F.XPT...\n",
      "✅ Saved to ../Dataset\\2009_2010\\MCQ_F.XPT\n",
      "Downloading DUQ_F.XPT...\n",
      "✅ Saved to ../Dataset\\2009_2010\\DUQ_F.XPT\n",
      "Downloading ALQ_F.XPT...\n",
      "✅ Saved to ../Dataset\\2009_2010\\ALQ_F.XPT\n",
      "\n",
      "=== Downloading NHANES 2011-2012 ===\n",
      "Downloading DEMO_G.XPT...\n",
      "✅ Saved to ../Dataset\\2011_2012\\DEMO_G.XPT\n",
      "Downloading BIOPRO_G.XPT...\n",
      "✅ Saved to ../Dataset\\2011_2012\\BIOPRO_G.XPT\n",
      "Downloading HEPC_G.XPT...\n",
      "✅ Saved to ../Dataset\\2011_2012\\HEPC_G.XPT\n",
      "Downloading MCQ_G.XPT...\n",
      "✅ Saved to ../Dataset\\2011_2012\\MCQ_G.XPT\n",
      "Downloading DUQ_G.XPT...\n",
      "✅ Saved to ../Dataset\\2011_2012\\DUQ_G.XPT\n",
      "Downloading ALQ_G.XPT...\n",
      "✅ Saved to ../Dataset\\2011_2012\\ALQ_G.XPT\n",
      "\n",
      "=== Downloading NHANES 2013-2014 ===\n",
      "Downloading DEMO_H.XPT...\n",
      "✅ Saved to ../Dataset\\2013_2014\\DEMO_H.XPT\n",
      "Downloading BIOPRO_H.XPT...\n",
      "✅ Saved to ../Dataset\\2013_2014\\BIOPRO_H.XPT\n",
      "Downloading HEPC_H.XPT...\n",
      "✅ Saved to ../Dataset\\2013_2014\\HEPC_H.XPT\n",
      "Downloading MCQ_H.XPT...\n",
      "✅ Saved to ../Dataset\\2013_2014\\MCQ_H.XPT\n",
      "Downloading DUQ_H.XPT...\n",
      "✅ Saved to ../Dataset\\2013_2014\\DUQ_H.XPT\n",
      "Downloading ALQ_H.XPT...\n",
      "✅ Saved to ../Dataset\\2013_2014\\ALQ_H.XPT\n",
      "\n",
      "=== Downloading NHANES 2015-2016 ===\n",
      "Downloading DEMO_I.XPT...\n",
      "✅ Saved to ../Dataset\\2015_2016\\DEMO_I.XPT\n",
      "Downloading BIOPRO_I.XPT...\n",
      "✅ Saved to ../Dataset\\2015_2016\\BIOPRO_I.XPT\n",
      "Downloading HEPC_I.XPT...\n",
      "✅ Saved to ../Dataset\\2015_2016\\HEPC_I.XPT\n",
      "Downloading MCQ_I.XPT...\n",
      "✅ Saved to ../Dataset\\2015_2016\\MCQ_I.XPT\n",
      "Downloading DUQ_I.XPT...\n",
      "✅ Saved to ../Dataset\\2015_2016\\DUQ_I.XPT\n",
      "Downloading ALQ_I.XPT...\n",
      "✅ Saved to ../Dataset\\2015_2016\\ALQ_I.XPT\n",
      "\n",
      "=== Downloading NHANES 2017-2018 ===\n",
      "Downloading DEMO_J.xpt...\n",
      "✅ Saved to ../Dataset\\2017_2018\\DEMO_J.xpt\n",
      "Downloading BIOPRO_J.xpt...\n",
      "✅ Saved to ../Dataset\\2017_2018\\BIOPRO_J.xpt\n",
      "Downloading HEPC_J.xpt...\n",
      "✅ Saved to ../Dataset\\2017_2018\\HEPC_J.xpt\n",
      "Downloading MCQ_J.xpt...\n",
      "✅ Saved to ../Dataset\\2017_2018\\MCQ_J.xpt\n",
      "Downloading DUQ_J.xpt...\n",
      "✅ Saved to ../Dataset\\2017_2018\\DUQ_J.xpt\n",
      "Downloading ALQ_J.xpt...\n",
      "✅ Saved to ../Dataset\\2017_2018\\ALQ_J.xpt\n"
     ]
    }
   ],
   "source": [
    "os.makedirs(root_folder, exist_ok=True)\n",
    "\n",
    "for cycle, info in nhanes_cycles.items():\n",
    "    print(f\"\\n=== Downloading NHANES {cycle} ===\")\n",
    "    cycle_folder = os.path.join(root_folder, cycle.replace(\"-\", \"_\"))\n",
    "    os.makedirs(cycle_folder, exist_ok=True)\n",
    "    for file in info[\"files\"]:\n",
    "        url = info[\"base_url\"] + file\n",
    "        dest_path = os.path.join(cycle_folder, file)\n",
    "        print(f\"Downloading {file}...\")\n",
    "        try:\n",
    "            response = requests.get(url)\n",
    "            response.raise_for_status()\n",
    "            with open(dest_path, \"wb\") as f:\n",
    "                f.write(response.content)\n",
    "            print(f\"✅ Saved to {dest_path}\")\n",
    "        except requests.HTTPError as e:\n",
    "            print(f\"❌ Failed to download {file} ({e.response.status_code})\")"
   ]
  }
 ],
 "metadata": {
  "colab": {
   "authorship_tag": "ABX9TyNaDEjXs0MsU4Il5Vv+oMf4",
   "provenance": []
  },
  "kernelspec": {
   "display_name": "Python 3",
   "name": "python3"
  },
  "language_info": {
   "codemirror_mode": {
    "name": "ipython",
    "version": 3
   },
   "file_extension": ".py",
   "mimetype": "text/x-python",
   "name": "python",
   "nbconvert_exporter": "python",
   "pygments_lexer": "ipython3",
   "version": "3.10.6"
  }
 },
 "nbformat": 4,
 "nbformat_minor": 0
}
