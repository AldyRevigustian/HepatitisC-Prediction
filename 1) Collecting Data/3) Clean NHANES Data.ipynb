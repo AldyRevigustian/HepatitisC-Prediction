{
 "cells": [
  {
   "cell_type": "markdown",
   "metadata": {
    "id": "lO7CbIiKNuQl"
   },
   "source": [
    "## Import Library"
   ]
  },
  {
   "cell_type": "code",
   "execution_count": 1,
   "metadata": {
    "executionInfo": {
     "elapsed": 447,
     "status": "ok",
     "timestamp": 1747384869616,
     "user": {
      "displayName": "Aldy Revi",
      "userId": "00612481979328314286"
     },
     "user_tz": -420
    },
    "id": "3mguPCLeNgMc"
   },
   "outputs": [],
   "source": [
    "import pandas as pd\n",
    "# from google.colab import drive"
   ]
  },
  {
   "cell_type": "code",
   "execution_count": 2,
   "metadata": {
    "colab": {
     "base_uri": "https://localhost:8080/"
    },
    "executionInfo": {
     "elapsed": 16369,
     "status": "ok",
     "timestamp": 1747384920681,
     "user": {
      "displayName": "Aldy Revi",
      "userId": "00612481979328314286"
     },
     "user_tz": -420
    },
    "id": "sT_VxO8SNp8Y",
    "outputId": "8555a40d-83fe-4092-c666-55b7016193cb"
   },
   "outputs": [],
   "source": [
    "# drive.mount('/content/drive')\n",
    "# project_path = \"/content/drive/MyDrive/ComBio\"\n",
    "# root_folder = f\"{project_path}/Dataset\"\n",
    "# output_folder = f\"{root_folder}/Processed\"\n",
    "\n",
    "root_folder = f\"../Dataset\"\n",
    "output_folder = f\"{root_folder}/Processed\""
   ]
  },
  {
   "cell_type": "markdown",
   "metadata": {
    "id": "6GHRTZzpNxeX"
   },
   "source": [
    "## Merge Data"
   ]
  },
  {
   "cell_type": "code",
   "execution_count": 3,
   "metadata": {
    "executionInfo": {
     "elapsed": 8,
     "status": "ok",
     "timestamp": 1747384973760,
     "user": {
      "displayName": "Aldy Revi",
      "userId": "00612481979328314286"
     },
     "user_tz": -420
    },
    "id": "lNP0c5zPNexZ"
   },
   "outputs": [],
   "source": [
    "file_paths = [\n",
    "    f\"{output_folder}/2005-2006.csv\",\n",
    "    f\"{output_folder}/2007-2008.csv\",\n",
    "    f\"{output_folder}/2009-2010.csv\",\n",
    "    f\"{output_folder}/2011-2012.csv\",\n",
    "    f\"{output_folder}/2013-2014.csv\",\n",
    "    f\"{output_folder}/2015-2016.csv\",\n",
    "    f\"{output_folder}/2017-2018.csv\",\n",
    "]"
   ]
  },
  {
   "cell_type": "code",
   "execution_count": 4,
   "metadata": {
    "colab": {
     "base_uri": "https://localhost:8080/"
    },
    "executionInfo": {
     "elapsed": 6679,
     "status": "ok",
     "timestamp": 1747384983069,
     "user": {
      "displayName": "Aldy Revi",
      "userId": "00612481979328314286"
     },
     "user_tz": -420
    },
    "id": "2cNuTW0wPpf1",
    "outputId": "f7288102-8047-4064-d51a-75e414b7ef78"
   },
   "outputs": [
    {
     "name": "stdout",
     "output_type": "stream",
     "text": [
      "Dataset berhasil digabung dan kolom telah diubah namanya.\n",
      "Jumlah baris: 47939\n",
      "Jumlah kolom: 29\n"
     ]
    }
   ],
   "source": [
    "df_list = [pd.read_csv(file) for file in file_paths]\n",
    "df = pd.concat(df_list, ignore_index=True)\n",
    "\n",
    "column_mapping = {\n",
    "    # Demografi\n",
    "    'RIDAGEYR': 'age',\n",
    "    'RIAGENDR': 'gender',\n",
    "    'RIDRETH1': 'race_ethnicity',\n",
    "\n",
    "    # Riwayat kesehatan dan perilaku\n",
    "    'DMDMARTL': 'marital_status',\n",
    "    'MCQ203': 'jaundice_history',\n",
    "\n",
    "    'MCQ092': 'receive_transfusion',\n",
    "    'MCQ160L': 'liver_condition',\n",
    "    'DUQ370': 'injectable_drug_use',\n",
    "    'DUQ240': 'drug_use',\n",
    "    'ALQ101': 'alcohol_consumption',\n",
    "\n",
    "    # Hasil tes darah\n",
    "    \"LBXSATSI\": \"alt\",\n",
    "    \"LBXSAL\": \"albumin\",\n",
    "    \"LBXSAPSI\": \"alp\",\n",
    "    \"LBXSASSI\": \"ast\",\n",
    "    \"LBXSBU\": \"bun\",\n",
    "    \"LBXSCH\": \"cholesterol\",\n",
    "    \"LBXSCK\": \"cpk\",\n",
    "    \"LBXSCR\": \"creatinine\",\n",
    "    \"LBXSGTSI\": \"ggt\",\n",
    "    \"LBXSGL\": \"glucose\",\n",
    "    \"LBXSTB\": \"total_bilirubin\",\n",
    "    \"LBXSCA\": \"total_calcium\",\n",
    "    \"LBXSTP\": \"total_protein\",\n",
    "    \"LBXSTR\": \"triglycerides\",\n",
    "    \"LBXSUA\": \"uric_acid\",\n",
    "    'LBXSLDSI': \"ldh\",\n",
    "    \"LBXSGB\" : \"globulin\",\n",
    "    \"LBXSOSSI\" : \"osmolality\",\n",
    "\n",
    "    # Target\n",
    "    'LBXHCR': 'hcv_status'\n",
    "}\n",
    "\n",
    "columns_to_keep = list(column_mapping.keys())\n",
    "df_selected = df[columns_to_keep]\n",
    "\n",
    "df_selected = df_selected.rename(columns=column_mapping)\n",
    "\n",
    "output_path = f\"{output_folder}/raw_dataset.csv\"\n",
    "df_selected.to_csv(output_path, index=False)\n",
    "\n",
    "print(\"Dataset berhasil digabung dan kolom telah diubah namanya.\")\n",
    "print(f\"Jumlah baris: {df_selected.shape[0]}\")\n",
    "print(f\"Jumlah kolom: {df_selected.shape[1]}\")\n"
   ]
  }
 ],
 "metadata": {
  "colab": {
   "authorship_tag": "ABX9TyMvags+8JrZbWMq9HdpCqeL",
   "provenance": []
  },
  "kernelspec": {
   "display_name": "Python 3",
   "name": "python3"
  },
  "language_info": {
   "codemirror_mode": {
    "name": "ipython",
    "version": 3
   },
   "file_extension": ".py",
   "mimetype": "text/x-python",
   "name": "python",
   "nbconvert_exporter": "python",
   "pygments_lexer": "ipython3",
   "version": "3.10.6"
  }
 },
 "nbformat": 4,
 "nbformat_minor": 0
}
