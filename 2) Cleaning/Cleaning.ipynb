{
 "cells": [
  {
   "cell_type": "markdown",
   "metadata": {
    "id": "Z7qCfkKs14Q7"
   },
   "source": [
    "## Import Library"
   ]
  },
  {
   "cell_type": "code",
   "execution_count": null,
   "metadata": {
    "colab": {
     "base_uri": "https://localhost:8080/"
    },
    "executionInfo": {
     "elapsed": 5018,
     "status": "ok",
     "timestamp": 1747394782716,
     "user": {
      "displayName": "Aldy Revi",
      "userId": "00612481979328314286"
     },
     "user_tz": -420
    },
    "id": "DUgYtcsE137I",
    "outputId": "4ffc689b-b22f-4b13-c581-1ae870553c6e"
   },
   "outputs": [],
   "source": [
    "# from google.colab import drive\n",
    "# drive.mount('/content/drive')\n",
    "# project_path = \"/content/drive/MyDrive/ComBio\"\n",
    "# !pip install imbalanced-learn scikit-learn matplotlib seaborn pandas"
   ]
  },
  {
   "cell_type": "code",
   "execution_count": 21,
   "metadata": {
    "executionInfo": {
     "elapsed": 1,
     "status": "ok",
     "timestamp": 1747394782719,
     "user": {
      "displayName": "Aldy Revi",
      "userId": "00612481979328314286"
     },
     "user_tz": -420
    },
    "id": "5JGEWzpp1gwL"
   },
   "outputs": [],
   "source": [
    "import pandas as pd\n",
    "import matplotlib.pyplot as plt\n",
    "import seaborn as sns\n",
    "from sklearn.utils import resample\n",
    "from imblearn.over_sampling import SMOTE\n",
    "from sklearn.impute import SimpleImputer\n",
    "from sklearn.model_selection import train_test_split, cross_val_score\n",
    "from sklearn.ensemble import RandomForestClassifier\n",
    "from imblearn.under_sampling import RandomUnderSampler"
   ]
  },
  {
   "cell_type": "markdown",
   "metadata": {
    "id": "NY3yFogX2pzO"
   },
   "source": [
    "## Import Dataset"
   ]
  },
  {
   "cell_type": "code",
   "execution_count": 22,
   "metadata": {
    "colab": {
     "base_uri": "https://localhost:8080/"
    },
    "executionInfo": {
     "elapsed": 458,
     "status": "ok",
     "timestamp": 1747394783178,
     "user": {
      "displayName": "Aldy Revi",
      "userId": "00612481979328314286"
     },
     "user_tz": -420
    },
    "id": "kdeCRvA_1gwN",
    "outputId": "337f1c81-edd7-4579-f239-84f10e1e9ee5"
   },
   "outputs": [
    {
     "name": "stdout",
     "output_type": "stream",
     "text": [
      "<class 'pandas.core.frame.DataFrame'>\n",
      "RangeIndex: 47939 entries, 0 to 47938\n",
      "Data columns (total 29 columns):\n",
      " #   Column               Non-Null Count  Dtype  \n",
      "---  ------               --------------  -----  \n",
      " 0   age                  47939 non-null  float64\n",
      " 1   gender               47939 non-null  float64\n",
      " 2   race_ethnicity       47939 non-null  float64\n",
      " 3   marital_status       39842 non-null  float64\n",
      " 4   jaundice_history     20076 non-null  float64\n",
      " 5   receive_transfusion  47939 non-null  float64\n",
      " 6   liver_condition      38184 non-null  float64\n",
      " 7   injectable_drug_use  28684 non-null  float64\n",
      " 8   drug_use             28691 non-null  float64\n",
      " 9   alcohol_consumption  30525 non-null  float64\n",
      " 10  alt                  44261 non-null  float64\n",
      " 11  albumin              44361 non-null  float64\n",
      " 12  alp                  44352 non-null  float64\n",
      " 13  ast                  44237 non-null  float64\n",
      " 14  bun                  44353 non-null  float64\n",
      " 15  cholesterol          44350 non-null  float64\n",
      " 16  cpk                  24657 non-null  float64\n",
      " 17  creatinine           44357 non-null  float64\n",
      " 18  ggt                  44351 non-null  float64\n",
      " 19  glucose              44358 non-null  float64\n",
      " 20  total_bilirubin      44307 non-null  float64\n",
      " 21  total_calcium        44312 non-null  float64\n",
      " 22  total_protein        44303 non-null  float64\n",
      " 23  triglycerides        44333 non-null  float64\n",
      " 24  uric_acid            44347 non-null  float64\n",
      " 25  ldh                  44128 non-null  float64\n",
      " 26  globulin             44302 non-null  float64\n",
      " 27  osmolality           44351 non-null  float64\n",
      " 28  hcv_status           18989 non-null  float64\n",
      "dtypes: float64(29)\n",
      "memory usage: 10.6 MB\n",
      "None\n"
     ]
    }
   ],
   "source": [
    "# file_path = f\"{project_path}/Dataset/Processed/raw_dataset.csv\"\n",
    "# result_path = f\"{project_path}/Result\"\n",
    "\n",
    "file_path = f\"../Dataset/Processed/raw_dataset.csv\"\n",
    "result_path = f\"../Result\"\n",
    "df = pd.read_csv(file_path)\n",
    "print(df.info())"
   ]
  },
  {
   "cell_type": "markdown",
   "metadata": {
    "id": "a4IOfNv22s1C"
   },
   "source": [
    "## Cleaning"
   ]
  },
  {
   "cell_type": "code",
   "execution_count": 23,
   "metadata": {
    "colab": {
     "base_uri": "https://localhost:8080/"
    },
    "executionInfo": {
     "elapsed": 237,
     "status": "ok",
     "timestamp": 1747394783413,
     "user": {
      "displayName": "Aldy Revi",
      "userId": "00612481979328314286"
     },
     "user_tz": -420
    },
    "id": "K_L9uuTbRS-y",
    "outputId": "413fc774-040e-45c4-e596-36de8ee05728"
   },
   "outputs": [
    {
     "name": "stdout",
     "output_type": "stream",
     "text": [
      "<class 'pandas.core.frame.DataFrame'>\n",
      "RangeIndex: 47939 entries, 0 to 47938\n",
      "Data columns (total 29 columns):\n",
      " #   Column               Non-Null Count  Dtype  \n",
      "---  ------               --------------  -----  \n",
      " 0   age                  47939 non-null  Int64  \n",
      " 1   gender               47939 non-null  Int64  \n",
      " 2   race_ethnicity       47939 non-null  Int64  \n",
      " 3   marital_status       39842 non-null  Int64  \n",
      " 4   jaundice_history     20076 non-null  Int64  \n",
      " 5   receive_transfusion  47939 non-null  Int64  \n",
      " 6   liver_condition      38184 non-null  Int64  \n",
      " 7   injectable_drug_use  28684 non-null  Int64  \n",
      " 8   drug_use             28691 non-null  Int64  \n",
      " 9   alcohol_consumption  30525 non-null  Int64  \n",
      " 10  alt                  44261 non-null  float64\n",
      " 11  albumin              44361 non-null  float64\n",
      " 12  alp                  44352 non-null  float64\n",
      " 13  ast                  44237 non-null  float64\n",
      " 14  bun                  44353 non-null  float64\n",
      " 15  cholesterol          44350 non-null  float64\n",
      " 16  cpk                  24657 non-null  float64\n",
      " 17  creatinine           44357 non-null  float64\n",
      " 18  ggt                  44351 non-null  float64\n",
      " 19  glucose              44358 non-null  float64\n",
      " 20  total_bilirubin      44307 non-null  float64\n",
      " 21  total_calcium        44312 non-null  float64\n",
      " 22  total_protein        44303 non-null  float64\n",
      " 23  triglycerides        44333 non-null  float64\n",
      " 24  uric_acid            44347 non-null  float64\n",
      " 25  ldh                  44128 non-null  float64\n",
      " 26  globulin             44302 non-null  float64\n",
      " 27  osmolality           44351 non-null  float64\n",
      " 28  hcv_status           18989 non-null  Int64  \n",
      "dtypes: Int64(11), float64(18)\n",
      "memory usage: 11.1 MB\n",
      "None\n"
     ]
    }
   ],
   "source": [
    "df['age'] = df['age'].astype('Int64')\n",
    "\n",
    "df['gender'] = df['gender'].astype('Int64')\n",
    "df['race_ethnicity'] = df['race_ethnicity'].astype('Int64')\n",
    "\n",
    "df['marital_status'] = df['marital_status'].replace({77: 5, 99: 5}).astype('Int64')\n",
    "df['jaundice_history'] = df['jaundice_history'].replace({9: 2}).astype('Int64')\n",
    "\n",
    "df['receive_transfusion'] = df['receive_transfusion'].replace({7: 2, 9: 2}).astype('Int64')\n",
    "df['liver_condition'] = df['liver_condition'].replace({9: 2}).astype('Int64')\n",
    "df['injectable_drug_use'] = df['injectable_drug_use'].replace({7: 2, 9: 2}).astype('Int64')\n",
    "df['drug_use'] = df['drug_use'].replace({7: 2, 9: 2}).astype('Int64')\n",
    "df['alcohol_consumption'] = df['alcohol_consumption'].replace({9: 2}).astype('Int64')\n",
    "\n",
    "blood_test_columns = [\n",
    "    \"alt\", \"albumin\", \"alp\", \"ast\", \"bun\", \"cholesterol\", \"cpk\", \"creatinine\",\n",
    "    \"ggt\", \"glucose\", \"total_bilirubin\", \"total_calcium\", \"total_protein\",\n",
    "    \"triglycerides\", \"uric_acid\", \"ldh\", \"globulin\", \"osmolality\"\n",
    "]\n",
    "df[blood_test_columns] = df[blood_test_columns].astype('float')\n",
    "\n",
    "df['hcv_status'] = df['hcv_status'].replace({2: 0, 3: 0}).astype('Int64')\n",
    "\n",
    "print(df.info())"
   ]
  },
  {
   "cell_type": "code",
   "execution_count": 24,
   "metadata": {
    "colab": {
     "base_uri": "https://localhost:8080/",
     "height": 1000
    },
    "executionInfo": {
     "elapsed": 19,
     "status": "ok",
     "timestamp": 1747394783446,
     "user": {
      "displayName": "Aldy Revi",
      "userId": "00612481979328314286"
     },
     "user_tz": -420
    },
    "id": "x9vx9ynnRWZ4",
    "outputId": "945381d2-de6b-41ba-ec83-64741d394a44"
   },
   "outputs": [
    {
     "data": {
      "text/plain": [
       "age                        0\n",
       "gender                     0\n",
       "race_ethnicity             0\n",
       "marital_status          8097\n",
       "jaundice_history       27863\n",
       "receive_transfusion        0\n",
       "liver_condition         9755\n",
       "injectable_drug_use    19255\n",
       "drug_use               19248\n",
       "alcohol_consumption    17414\n",
       "alt                     3678\n",
       "albumin                 3578\n",
       "alp                     3587\n",
       "ast                     3702\n",
       "bun                     3586\n",
       "cholesterol             3589\n",
       "cpk                    23282\n",
       "creatinine              3582\n",
       "ggt                     3588\n",
       "glucose                 3581\n",
       "total_bilirubin         3632\n",
       "total_calcium           3627\n",
       "total_protein           3636\n",
       "triglycerides           3606\n",
       "uric_acid               3592\n",
       "ldh                     3811\n",
       "globulin                3637\n",
       "osmolality              3588\n",
       "hcv_status             28950\n",
       "dtype: int64"
      ]
     },
     "execution_count": 24,
     "metadata": {},
     "output_type": "execute_result"
    }
   ],
   "source": [
    "df.isnull().sum()"
   ]
  },
  {
   "cell_type": "code",
   "execution_count": 25,
   "metadata": {
    "executionInfo": {
     "elapsed": 49,
     "status": "ok",
     "timestamp": 1747394783496,
     "user": {
      "displayName": "Aldy Revi",
      "userId": "00612481979328314286"
     },
     "user_tz": -420
    },
    "id": "kTbIxdIvRYnD"
   },
   "outputs": [],
   "source": [
    "df = df[~df['hcv_status'].isna()]"
   ]
  },
  {
   "cell_type": "code",
   "execution_count": 26,
   "metadata": {
    "executionInfo": {
     "elapsed": 29,
     "status": "ok",
     "timestamp": 1747394783517,
     "user": {
      "displayName": "Aldy Revi",
      "userId": "00612481979328314286"
     },
     "user_tz": -420
    },
    "id": "zumWu51mRZ20"
   },
   "outputs": [],
   "source": [
    "df_hcv2 = df[df['hcv_status'] == 0].copy() # Negative\n",
    "df_hcv2.dropna(inplace=True)\n",
    "df_hcv2.drop_duplicates(inplace=True)\n",
    "\n",
    "df_hcv1 = df[df['hcv_status'] == 1].copy() # Positive\n",
    "df_hcv1.fillna(df_hcv1.median(numeric_only=True), inplace=True)\n",
    "\n",
    "df = pd.concat([df_hcv2, df_hcv1], ignore_index=True)"
   ]
  },
  {
   "cell_type": "code",
   "execution_count": 27,
   "metadata": {
    "colab": {
     "base_uri": "https://localhost:8080/",
     "height": 1000
    },
    "executionInfo": {
     "elapsed": 14,
     "status": "ok",
     "timestamp": 1747394783532,
     "user": {
      "displayName": "Aldy Revi",
      "userId": "00612481979328314286"
     },
     "user_tz": -420
    },
    "id": "eYt-wPnyRbu2",
    "outputId": "5778178e-7f04-456f-b9e4-458350fc9f0d"
   },
   "outputs": [
    {
     "data": {
      "text/plain": [
       "age                    0\n",
       "gender                 0\n",
       "race_ethnicity         0\n",
       "marital_status         0\n",
       "jaundice_history       0\n",
       "receive_transfusion    0\n",
       "liver_condition        0\n",
       "injectable_drug_use    0\n",
       "drug_use               0\n",
       "alcohol_consumption    0\n",
       "alt                    0\n",
       "albumin                0\n",
       "alp                    0\n",
       "ast                    0\n",
       "bun                    0\n",
       "cholesterol            0\n",
       "cpk                    0\n",
       "creatinine             0\n",
       "ggt                    0\n",
       "glucose                0\n",
       "total_bilirubin        0\n",
       "total_calcium          0\n",
       "total_protein          0\n",
       "triglycerides          0\n",
       "uric_acid              0\n",
       "ldh                    0\n",
       "globulin               0\n",
       "osmolality             0\n",
       "hcv_status             0\n",
       "dtype: int64"
      ]
     },
     "execution_count": 27,
     "metadata": {},
     "output_type": "execute_result"
    }
   ],
   "source": [
    "df.isnull().sum()"
   ]
  },
  {
   "cell_type": "code",
   "execution_count": 28,
   "metadata": {
    "colab": {
     "base_uri": "https://localhost:8080/"
    },
    "executionInfo": {
     "elapsed": 17,
     "status": "ok",
     "timestamp": 1747394783553,
     "user": {
      "displayName": "Aldy Revi",
      "userId": "00612481979328314286"
     },
     "user_tz": -420
    },
    "id": "2oynRjOsRdv6",
    "outputId": "43ea6430-5748-433b-f5af-14607c44bae0"
   },
   "outputs": [
    {
     "name": "stdout",
     "output_type": "stream",
     "text": [
      "hcv_status\n",
      "0    7555\n",
      "1     441\n",
      "Name: count, dtype: Int64\n"
     ]
    }
   ],
   "source": [
    "print(df['hcv_status'].value_counts())"
   ]
  },
  {
   "cell_type": "code",
   "execution_count": 29,
   "metadata": {
    "executionInfo": {
     "elapsed": 52,
     "status": "ok",
     "timestamp": 1747394783614,
     "user": {
      "displayName": "Aldy Revi",
      "userId": "00612481979328314286"
     },
     "user_tz": -420
    },
    "id": "MH-N8e_cRfeU"
   },
   "outputs": [],
   "source": [
    "#  Ambil 2000 data negative saja\n",
    "hcv2 = df[df['hcv_status'] == 0]\n",
    "hcv2_sampled = hcv2.sample(n=2000, random_state=42)\n",
    "\n",
    "df = pd.concat([\n",
    "    hcv2_sampled,\n",
    "    df[df['hcv_status'] != 0]\n",
    "], ignore_index=True)"
   ]
  },
  {
   "cell_type": "code",
   "execution_count": 30,
   "metadata": {
    "executionInfo": {
     "elapsed": 4,
     "status": "ok",
     "timestamp": 1747394783615,
     "user": {
      "displayName": "Aldy Revi",
      "userId": "00612481979328314286"
     },
     "user_tz": -420
    },
    "id": "rtiPdrPSRkaO"
   },
   "outputs": [],
   "source": [
    "int64_columns = df.select_dtypes(include=['Int64']).columns\n",
    "\n",
    "for col in int64_columns:\n",
    "    df[col] = df[col].astype('int')"
   ]
  },
  {
   "cell_type": "code",
   "execution_count": 31,
   "metadata": {
    "executionInfo": {
     "elapsed": 62,
     "status": "ok",
     "timestamp": 1747394783675,
     "user": {
      "displayName": "Aldy Revi",
      "userId": "00612481979328314286"
     },
     "user_tz": -420
    },
    "id": "HX32_iZ4Rlhy"
   },
   "outputs": [],
   "source": [
    "X = df.drop(columns=['hcv_status'])\n",
    "y = df['hcv_status']\n",
    "\n",
    "\n",
    "X_train, X_test, y_train, y_test = train_test_split(\n",
    "    X, y, test_size=0.2, random_state=42, stratify=y\n",
    ")\n",
    "\n",
    "# Terapkan SMOTE hanya pada data training\n",
    "smote = SMOTE(random_state=42)\n",
    "X_train_smote, y_train_smote = smote.fit_resample(X_train, y_train)\n",
    "\n",
    "# Buat dataframe hasil akhir\n",
    "train = pd.DataFrame(X_train_smote, columns=X_train.columns)\n",
    "train['hcv_status'] = y_train_smote\n",
    "train['dataset'] = 'train'\n",
    "\n",
    "test = X_test.copy()\n",
    "test['hcv_status'] = y_test\n",
    "test['dataset'] = 'test'\n",
    "\n",
    "# Gabungkan train dan test jadi satu dataframe\n",
    "df_cleaned = pd.concat([train, test], axis=0).reset_index(drop=True)"
   ]
  },
  {
   "cell_type": "code",
   "execution_count": 32,
   "metadata": {
    "colab": {
     "base_uri": "https://localhost:8080/"
    },
    "executionInfo": {
     "elapsed": 48,
     "status": "ok",
     "timestamp": 1747394783678,
     "user": {
      "displayName": "Aldy Revi",
      "userId": "00612481979328314286"
     },
     "user_tz": -420
    },
    "id": "LRGsPcdjRm70",
    "outputId": "816b8e5e-9f42-421c-b90c-278fdc1f9d54"
   },
   "outputs": [
    {
     "name": "stdout",
     "output_type": "stream",
     "text": [
      "== Total Keseluruhan ==\n",
      "hcv_status\n",
      "0    2000\n",
      "1    1687\n",
      "Name: count, dtype: int64\n",
      "\n",
      "== Train Set ==\n",
      "hcv_status\n",
      "0    1599\n",
      "1    1599\n",
      "Name: count, dtype: int64\n",
      "\n",
      "== Test Set ==\n",
      "hcv_status\n",
      "0    401\n",
      "1     88\n",
      "Name: count, dtype: int64\n"
     ]
    }
   ],
   "source": [
    "# Total keseluruhan\n",
    "print(\"== Total Keseluruhan ==\")\n",
    "print(df_cleaned['hcv_status'].value_counts())\n",
    "print()\n",
    "\n",
    "# Train set\n",
    "print(\"== Train Set ==\")\n",
    "print(df_cleaned[df_cleaned['dataset'] == 'train']['hcv_status'].value_counts())\n",
    "print()\n",
    "\n",
    "# Test set\n",
    "print(\"== Test Set ==\")\n",
    "print(df_cleaned[df_cleaned['dataset'] == 'test']['hcv_status'].value_counts())"
   ]
  },
  {
   "cell_type": "code",
   "execution_count": 34,
   "metadata": {
    "executionInfo": {
     "elapsed": 218,
     "status": "ok",
     "timestamp": 1747394783897,
     "user": {
      "displayName": "Aldy Revi",
      "userId": "00612481979328314286"
     },
     "user_tz": -420
    },
    "id": "li1SqWlTRo8M"
   },
   "outputs": [],
   "source": [
    "df_cleaned.to_csv(f'../Dataset/cleaned_dataset.csv', index=False)"
   ]
  }
 ],
 "metadata": {
  "colab": {
   "authorship_tag": "ABX9TyNsTnE49p0fJtbE7bC0Mlfg",
   "collapsed_sections": [
    "NY3yFogX2pzO"
   ],
   "provenance": []
  },
  "kernelspec": {
   "display_name": "Python 3",
   "name": "python3"
  },
  "language_info": {
   "codemirror_mode": {
    "name": "ipython",
    "version": 3
   },
   "file_extension": ".py",
   "mimetype": "text/x-python",
   "name": "python",
   "nbconvert_exporter": "python",
   "pygments_lexer": "ipython3",
   "version": "3.10.6"
  }
 },
 "nbformat": 4,
 "nbformat_minor": 0
}
